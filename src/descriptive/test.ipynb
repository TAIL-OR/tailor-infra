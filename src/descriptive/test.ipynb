{
 "cells": [
  {
   "cell_type": "code",
   "execution_count": 3,
   "metadata": {},
   "outputs": [
    {
     "name": "stdout",
     "output_type": "stream",
     "text": [
      "Collecting pandas\n",
      "  Downloading pandas-2.2.1-cp311-cp311-win_amd64.whl.metadata (19 kB)\n",
      "Requirement already satisfied: numpy<2,>=1.23.2 in c:\\users\\nitro5\\appdata\\local\\packages\\pythonsoftwarefoundation.python.3.11_qbz5n2kfra8p0\\localcache\\local-packages\\python311\\site-packages (from pandas) (1.26.2)\n",
      "Requirement already satisfied: python-dateutil>=2.8.2 in c:\\users\\nitro5\\appdata\\local\\packages\\pythonsoftwarefoundation.python.3.11_qbz5n2kfra8p0\\localcache\\local-packages\\python311\\site-packages (from pandas) (2.9.0.post0)\n",
      "Collecting pytz>=2020.1 (from pandas)\n",
      "  Downloading pytz-2024.1-py2.py3-none-any.whl.metadata (22 kB)\n",
      "Collecting tzdata>=2022.7 (from pandas)\n",
      "  Downloading tzdata-2024.1-py2.py3-none-any.whl.metadata (1.4 kB)\n",
      "Requirement already satisfied: six>=1.5 in c:\\users\\nitro5\\appdata\\local\\packages\\pythonsoftwarefoundation.python.3.11_qbz5n2kfra8p0\\localcache\\local-packages\\python311\\site-packages (from python-dateutil>=2.8.2->pandas) (1.16.0)\n",
      "Downloading pandas-2.2.1-cp311-cp311-win_amd64.whl (11.6 MB)\n",
      "   ---------------------------------------- 0.0/11.6 MB ? eta -:--:--\n",
      "   ---------------------------------------- 0.1/11.6 MB 4.3 MB/s eta 0:00:03\n",
      "   - -------------------------------------- 0.5/11.6 MB 6.2 MB/s eta 0:00:02\n",
      "   --- ------------------------------------ 0.9/11.6 MB 7.4 MB/s eta 0:00:02\n",
      "   --- ------------------------------------ 1.1/11.6 MB 7.6 MB/s eta 0:00:02\n",
      "   ----- ---------------------------------- 1.6/11.6 MB 7.5 MB/s eta 0:00:02\n",
      "   ------ --------------------------------- 2.0/11.6 MB 7.5 MB/s eta 0:00:02\n",
      "   ------- -------------------------------- 2.2/11.6 MB 6.9 MB/s eta 0:00:02\n",
      "   ---------- ----------------------------- 2.9/11.6 MB 8.1 MB/s eta 0:00:02\n",
      "   ----------- ---------------------------- 3.3/11.6 MB 8.1 MB/s eta 0:00:02\n",
      "   ------------ --------------------------- 3.7/11.6 MB 8.5 MB/s eta 0:00:01\n",
      "   -------------- ------------------------- 4.3/11.6 MB 8.5 MB/s eta 0:00:01\n",
      "   ---------------- ----------------------- 4.7/11.6 MB 8.6 MB/s eta 0:00:01\n",
      "   ----------------- ---------------------- 5.2/11.6 MB 8.7 MB/s eta 0:00:01\n",
      "   ------------------- -------------------- 5.5/11.6 MB 8.8 MB/s eta 0:00:01\n",
      "   -------------------- ------------------- 6.1/11.6 MB 8.8 MB/s eta 0:00:01\n",
      "   ---------------------- ----------------- 6.6/11.6 MB 9.0 MB/s eta 0:00:01\n",
      "   ------------------------ --------------- 7.1/11.6 MB 9.1 MB/s eta 0:00:01\n",
      "   ------------------------- -------------- 7.4/11.6 MB 9.0 MB/s eta 0:00:01\n",
      "   --------------------------- ------------ 7.9/11.6 MB 9.2 MB/s eta 0:00:01\n",
      "   ----------------------------- ---------- 8.5/11.6 MB 9.2 MB/s eta 0:00:01\n",
      "   ------------------------------- -------- 9.0/11.6 MB 9.3 MB/s eta 0:00:01\n",
      "   -------------------------------- ------- 9.5/11.6 MB 9.5 MB/s eta 0:00:01\n",
      "   ---------------------------------- ----- 9.9/11.6 MB 9.4 MB/s eta 0:00:01\n",
      "   ----------------------------------- ---- 10.4/11.6 MB 9.6 MB/s eta 0:00:01\n",
      "   ------------------------------------- -- 10.7/11.6 MB 9.6 MB/s eta 0:00:01\n",
      "   ---------------------------------------  11.3/11.6 MB 10.4 MB/s eta 0:00:01\n",
      "   ---------------------------------------  11.6/11.6 MB 10.1 MB/s eta 0:00:01\n",
      "   ---------------------------------------- 11.6/11.6 MB 9.6 MB/s eta 0:00:00\n",
      "Downloading pytz-2024.1-py2.py3-none-any.whl (505 kB)\n",
      "   ---------------------------------------- 0.0/505.5 kB ? eta -:--:--\n",
      "   ------------------------------------- - 481.3/505.5 kB 15.2 MB/s eta 0:00:01\n",
      "   ---------------------------------------- 505.5/505.5 kB 8.0 MB/s eta 0:00:00\n",
      "Downloading tzdata-2024.1-py2.py3-none-any.whl (345 kB)\n",
      "   ---------------------------------------- 0.0/345.4 kB ? eta -:--:--\n",
      "   ---------------------------------------  337.9/345.4 kB 7.0 MB/s eta 0:00:01\n",
      "   ---------------------------------------- 345.4/345.4 kB 5.4 MB/s eta 0:00:00\n",
      "Installing collected packages: pytz, tzdata, pandas\n",
      "Successfully installed pandas-2.2.1 pytz-2024.1 tzdata-2024.1\n"
     ]
    }
   ],
   "source": [
    "!pip install pandas"
   ]
  },
  {
   "cell_type": "code",
   "execution_count": 2,
   "metadata": {},
   "outputs": [],
   "source": [
    "import pandas as pd"
   ]
  },
  {
   "cell_type": "code",
   "execution_count": 3,
   "metadata": {},
   "outputs": [],
   "source": [
    "dataset = pd.read_csv('../predictive/data/dados-abertos.csv', sep=';')"
   ]
  },
  {
   "cell_type": "code",
   "execution_count": 5,
   "metadata": {},
   "outputs": [
    {
     "data": {
      "text/html": [
       "<div>\n",
       "<style scoped>\n",
       "    .dataframe tbody tr th:only-of-type {\n",
       "        vertical-align: middle;\n",
       "    }\n",
       "\n",
       "    .dataframe tbody tr th {\n",
       "        vertical-align: top;\n",
       "    }\n",
       "\n",
       "    .dataframe thead th {\n",
       "        text-align: right;\n",
       "    }\n",
       "</style>\n",
       "<table border=\"1\" class=\"dataframe\">\n",
       "  <thead>\n",
       "    <tr style=\"text-align: right;\">\n",
       "      <th></th>\n",
       "      <th>Data</th>\n",
       "      <th>Data Cadastro</th>\n",
       "      <th>Sexo</th>\n",
       "      <th>Faixa Etária</th>\n",
       "      <th>RA</th>\n",
       "      <th>UF</th>\n",
       "      <th>Óbito</th>\n",
       "      <th>Data do Óbito</th>\n",
       "      <th>dataPrimeirosintomas</th>\n",
       "      <th>Idade</th>\n",
       "      <th>Pneumopatia</th>\n",
       "      <th>Nefropatia</th>\n",
       "      <th>Doença Hematológica</th>\n",
       "      <th>Distúrbios Metabólicos</th>\n",
       "      <th>Imunopressão</th>\n",
       "      <th>Obesidade</th>\n",
       "      <th>Outros</th>\n",
       "      <th>Cardiovasculopatia</th>\n",
       "    </tr>\n",
       "  </thead>\n",
       "  <tbody>\n",
       "    <tr>\n",
       "      <th>0</th>\n",
       "      <td>24/02/2024</td>\n",
       "      <td>18/03/2020</td>\n",
       "      <td>Masculino</td>\n",
       "      <td>50 a 59 anos</td>\n",
       "      <td>Plano Piloto</td>\n",
       "      <td>DISTRITO FEDERAL</td>\n",
       "      <td>Não</td>\n",
       "      <td>NaN</td>\n",
       "      <td>23/04/2020</td>\n",
       "      <td>57</td>\n",
       "      <td>NaN</td>\n",
       "      <td>NaN</td>\n",
       "      <td>NaN</td>\n",
       "      <td>NaN</td>\n",
       "      <td>NaN</td>\n",
       "      <td>NaN</td>\n",
       "      <td>NaN</td>\n",
       "      <td>NaN</td>\n",
       "    </tr>\n",
       "    <tr>\n",
       "      <th>1</th>\n",
       "      <td>24/02/2024</td>\n",
       "      <td>18/03/2020</td>\n",
       "      <td>Masculino</td>\n",
       "      <td>50 a 59 anos</td>\n",
       "      <td>Plano Piloto</td>\n",
       "      <td>DISTRITO FEDERAL</td>\n",
       "      <td>Não</td>\n",
       "      <td>NaN</td>\n",
       "      <td>03/08/2020</td>\n",
       "      <td>54</td>\n",
       "      <td>NaN</td>\n",
       "      <td>NaN</td>\n",
       "      <td>NaN</td>\n",
       "      <td>NaN</td>\n",
       "      <td>NaN</td>\n",
       "      <td>NaN</td>\n",
       "      <td>NaN</td>\n",
       "      <td>NaN</td>\n",
       "    </tr>\n",
       "    <tr>\n",
       "      <th>2</th>\n",
       "      <td>24/02/2024</td>\n",
       "      <td>18/03/2020</td>\n",
       "      <td>Masculino</td>\n",
       "      <td>40 a 49 anos</td>\n",
       "      <td>Lago Sul</td>\n",
       "      <td>DISTRITO FEDERAL</td>\n",
       "      <td>Não</td>\n",
       "      <td>NaN</td>\n",
       "      <td>09/03/2020</td>\n",
       "      <td>49</td>\n",
       "      <td>NaN</td>\n",
       "      <td>NaN</td>\n",
       "      <td>NaN</td>\n",
       "      <td>NaN</td>\n",
       "      <td>NaN</td>\n",
       "      <td>NaN</td>\n",
       "      <td>NaN</td>\n",
       "      <td>NaN</td>\n",
       "    </tr>\n",
       "    <tr>\n",
       "      <th>3</th>\n",
       "      <td>24/02/2024</td>\n",
       "      <td>18/03/2020</td>\n",
       "      <td>Masculino</td>\n",
       "      <td>&gt;= 60 anos</td>\n",
       "      <td>Águas Claras</td>\n",
       "      <td>DISTRITO FEDERAL</td>\n",
       "      <td>Não</td>\n",
       "      <td>NaN</td>\n",
       "      <td>14/03/2020</td>\n",
       "      <td>65</td>\n",
       "      <td>NaN</td>\n",
       "      <td>NaN</td>\n",
       "      <td>NaN</td>\n",
       "      <td>Sim</td>\n",
       "      <td>NaN</td>\n",
       "      <td>NaN</td>\n",
       "      <td>NaN</td>\n",
       "      <td>Sim</td>\n",
       "    </tr>\n",
       "    <tr>\n",
       "      <th>4</th>\n",
       "      <td>24/02/2024</td>\n",
       "      <td>18/03/2020</td>\n",
       "      <td>Feminino</td>\n",
       "      <td>30 a 39 anos</td>\n",
       "      <td>Plano Piloto</td>\n",
       "      <td>DISTRITO FEDERAL</td>\n",
       "      <td>Não</td>\n",
       "      <td>NaN</td>\n",
       "      <td>14/03/2020</td>\n",
       "      <td>31</td>\n",
       "      <td>NaN</td>\n",
       "      <td>NaN</td>\n",
       "      <td>NaN</td>\n",
       "      <td>NaN</td>\n",
       "      <td>NaN</td>\n",
       "      <td>NaN</td>\n",
       "      <td>NaN</td>\n",
       "      <td>NaN</td>\n",
       "    </tr>\n",
       "  </tbody>\n",
       "</table>\n",
       "</div>"
      ],
      "text/plain": [
       "         Data Data Cadastro       Sexo  Faixa Etária            RA  \\\n",
       "0  24/02/2024    18/03/2020  Masculino  50 a 59 anos  Plano Piloto   \n",
       "1  24/02/2024    18/03/2020  Masculino  50 a 59 anos  Plano Piloto   \n",
       "2  24/02/2024    18/03/2020  Masculino  40 a 49 anos      Lago Sul   \n",
       "3  24/02/2024    18/03/2020  Masculino    >= 60 anos  Águas Claras   \n",
       "4  24/02/2024    18/03/2020   Feminino  30 a 39 anos  Plano Piloto   \n",
       "\n",
       "                 UF Óbito Data do Óbito dataPrimeirosintomas  Idade  \\\n",
       "0  DISTRITO FEDERAL   Não           NaN           23/04/2020     57   \n",
       "1  DISTRITO FEDERAL   Não           NaN           03/08/2020     54   \n",
       "2  DISTRITO FEDERAL   Não           NaN           09/03/2020     49   \n",
       "3  DISTRITO FEDERAL   Não           NaN           14/03/2020     65   \n",
       "4  DISTRITO FEDERAL   Não           NaN           14/03/2020     31   \n",
       "\n",
       "  Pneumopatia Nefropatia Doença Hematológica Distúrbios Metabólicos  \\\n",
       "0         NaN        NaN                 NaN                    NaN   \n",
       "1         NaN        NaN                 NaN                    NaN   \n",
       "2         NaN        NaN                 NaN                    NaN   \n",
       "3         NaN        NaN                 NaN                    Sim   \n",
       "4         NaN        NaN                 NaN                    NaN   \n",
       "\n",
       "  Imunopressão Obesidade Outros Cardiovasculopatia  \n",
       "0          NaN       NaN    NaN                NaN  \n",
       "1          NaN       NaN    NaN                NaN  \n",
       "2          NaN       NaN    NaN                NaN  \n",
       "3          NaN       NaN    NaN                Sim  \n",
       "4          NaN       NaN    NaN                NaN  "
      ]
     },
     "execution_count": 5,
     "metadata": {},
     "output_type": "execute_result"
    }
   ],
   "source": [
    "dataset.head()"
   ]
  },
  {
   "cell_type": "code",
   "execution_count": 8,
   "metadata": {},
   "outputs": [
    {
     "ename": "TypeError",
     "evalue": "'int' object is not callable",
     "output_type": "error",
     "traceback": [
      "\u001b[1;31m---------------------------------------------------------------------------\u001b[0m",
      "\u001b[1;31mTypeError\u001b[0m                                 Traceback (most recent call last)",
      "Cell \u001b[1;32mIn[8], line 1\u001b[0m\n\u001b[1;32m----> 1\u001b[0m \u001b[43mdataset\u001b[49m\u001b[38;5;241;43m.\u001b[39;49m\u001b[43msize\u001b[49m\u001b[43m(\u001b[49m\u001b[43m)\u001b[49m\n",
      "\u001b[1;31mTypeError\u001b[0m: 'int' object is not callable"
     ]
    }
   ],
   "source": [
    "dataset.size"
   ]
  },
  {
   "cell_type": "code",
   "execution_count": 6,
   "metadata": {},
   "outputs": [],
   "source": [
    "test = dataset.loc[dataset['Óbito'] != 'Não']"
   ]
  },
  {
   "cell_type": "code",
   "execution_count": 9,
   "metadata": {},
   "outputs": [],
   "source": [
    "import datetime"
   ]
  },
  {
   "cell_type": "code",
   "execution_count": 12,
   "metadata": {},
   "outputs": [
    {
     "data": {
      "text/plain": [
       "3"
      ]
     },
     "execution_count": 12,
     "metadata": {},
     "output_type": "execute_result"
    }
   ],
   "source": [
    "datetime.datetime.now().month"
   ]
  },
  {
   "cell_type": "code",
   "execution_count": 22,
   "metadata": {},
   "outputs": [],
   "source": [
    "def get_last_nine_months():\n",
    "        month = datetime.datetime.now().month\n",
    "        year = datetime.datetime.now().year\n",
    "        last_nine_months = []\n",
    "        \n",
    "        for i in range(9):\n",
    "            last_nine_months.append((month, year))\n",
    "            month -= 1\n",
    "            if month <= 0:\n",
    "                month = 12\n",
    "                year -= 1\n",
    "        return last_nine_months"
   ]
  },
  {
   "cell_type": "code",
   "execution_count": 24,
   "metadata": {},
   "outputs": [],
   "source": [
    "last_nine_months = get_last_nine_months()"
   ]
  },
  {
   "cell_type": "code",
   "execution_count": 56,
   "metadata": {},
   "outputs": [],
   "source": [
    "death_day = dataset.loc[dataset['Óbito'] != \"Não\"]['Data do Óbito']"
   ]
  },
  {
   "cell_type": "code",
   "execution_count": 66,
   "metadata": {},
   "outputs": [],
   "source": [
    "deaths = {}\n",
    "for month_year in last_nine_months:\n",
    "    deaths_per_month = 0\n",
    "    for date in death_day:\n",
    "        splited_data = date.split('/')\n",
    "        if int(splited_data[2]) == month_year[1]:\n",
    "            if int(splited_data[1]) == int(month_year[0]):\n",
    "                deaths_per_month+=1\n",
    "    deaths[month_year] = deaths_per_month"
   ]
  },
  {
   "cell_type": "code",
   "execution_count": 67,
   "metadata": {},
   "outputs": [
    {
     "data": {
      "text/plain": [
       "{(3, 2024): 0,\n",
       " (2, 2024): 2,\n",
       " (1, 2024): 1,\n",
       " (12, 2023): 4,\n",
       " (11, 2023): 6,\n",
       " (10, 2023): 10,\n",
       " (9, 2023): 12,\n",
       " (8, 2023): 4,\n",
       " (7, 2023): 6}"
      ]
     },
     "execution_count": 67,
     "metadata": {},
     "output_type": "execute_result"
    }
   ],
   "source": [
    "deaths"
   ]
  },
  {
   "cell_type": "code",
   "execution_count": 72,
   "metadata": {},
   "outputs": [],
   "source": [
    "contamination = {}\n",
    "last_nine_months = get_last_nine_months()\n",
    "death_day = dataset['dataPrimeirosintomas']\n",
    "for month_year in last_nine_months:\n",
    "    deaths_per_month = 0\n",
    "    for date in death_day:\n",
    "        splited_data = date.split('/')\n",
    "        if int(splited_data[2]) == month_year[1]:\n",
    "            if int(splited_data[1]) == int(month_year[0]):\n",
    "                deaths_per_month+=1\n",
    "    contamination[month_year] = deaths_per_month"
   ]
  },
  {
   "cell_type": "code",
   "execution_count": 73,
   "metadata": {},
   "outputs": [
    {
     "data": {
      "text/plain": [
       "{(3, 2024): 0,\n",
       " (2, 2024): 3860,\n",
       " (1, 2024): 1985,\n",
       " (12, 2023): 1014,\n",
       " (11, 2023): 1797,\n",
       " (10, 2023): 6075,\n",
       " (9, 2023): 5614,\n",
       " (8, 2023): 1648,\n",
       " (7, 2023): 740}"
      ]
     },
     "execution_count": 73,
     "metadata": {},
     "output_type": "execute_result"
    }
   ],
   "source": [
    "contamination"
   ]
  }
 ],
 "metadata": {
  "kernelspec": {
   "display_name": "Python 3",
   "language": "python",
   "name": "python3"
  },
  "language_info": {
   "codemirror_mode": {
    "name": "ipython",
    "version": 3
   },
   "file_extension": ".py",
   "mimetype": "text/x-python",
   "name": "python",
   "nbconvert_exporter": "python",
   "pygments_lexer": "ipython3",
   "version": "3.11.8"
  }
 },
 "nbformat": 4,
 "nbformat_minor": 2
}
